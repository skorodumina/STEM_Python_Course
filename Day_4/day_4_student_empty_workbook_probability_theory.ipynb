{
 "cells": [
  {
   "cell_type": "markdown",
   "metadata": {},
   "source": [
    "\\begin{equation}\n",
    "        \\begin{aligned}\n",
    "            &\\underbrace{ \\boxed{ \\overrightarrow{X}_{all} \\& \\overrightarrow{\\Theta} }_{pdf} (\\overrightarrow{v_{x}}_{all}, \\overrightarrow{v_{\\theta}})  }\n",
    "            &= \n",
    "            &\\underbrace{ \\boxed{ \\overrightarrow{ \\Theta }  | \\overrightarrow{X}_{all}  }_{ pdf } ( \\overrightarrow{v_{\\Theta}} | \\overrightarrow{v_{x}}_{all} ) }\n",
    "            &\\times\n",
    "            &\\underbrace{ \\boxed{ \\overrightarrow{X}_{all}  }_{ pdf } ( \\overrightarrow{v_{x}}_{all} ) }\n",
    "            &=\n",
    "            &\\underbrace{ \\boxed{ \\overrightarrow{X}_{all} | \\overrightarrow{ \\Theta }   }_{ pdf } ( \\overrightarrow{v_{x}}_{all}, \\overrightarrow{v_{\\Theta}}) }\n",
    "            &\\times\n",
    "            &\\underbrace{ \\boxed{ \\overrightarrow{ \\Theta }   }_{ pdf } ( \\overrightarrow{v_{\\Theta}}) } \n",
    "            \\\\\n",
    "            &\\underbrace{Joint}\n",
    "            &=\n",
    "            &\\underbrace{Posterior }\n",
    "            &\\times \n",
    "            &\\underbrace{Evidence }\n",
    "            &= \n",
    "            &\\underbrace{Likelihood} \n",
    "            &\\times \n",
    "            &\\underbrace{Prior }\n",
    "            \\\\\n",
    "            & \\text{Omited In Textbooks}\n",
    "            &\n",
    "            & \\text{ (all data) }\n",
    "            &\n",
    "            & \\text{ (all data) }\n",
    "            & \n",
    "            & \\text{ (all data) }\n",
    "            &\n",
    "            & \\text{ (data marginal) }\n",
    "            \\\\\n",
    "        \\end{aligned} \n",
    "    \\end{equation}\n"
   ]
  },
  {
   "cell_type": "markdown",
   "metadata": {},
   "source": [
    "!pip install nestle corner emcee"
   ]
  },
  {
   "cell_type": "markdown",
   "metadata": {},
   "source": [
    "# Imports"
   ]
  },
  {
   "cell_type": "code",
   "execution_count": null,
   "metadata": {},
   "outputs": [],
   "source": [
    "import warnings\n",
    "import numpy\n",
    "import scipy\n",
    "import scipy.stats\n",
    "import pandas\n",
    "import matplotlib.pyplot as plt\n",
    "import Library_GraphTwoDimensionDensityColorMap"
   ]
  },
  {
   "cell_type": "code",
   "execution_count": null,
   "metadata": {},
   "outputs": [],
   "source": [
    "warnings.simplefilter('ignore') #This ignores warnings that don't actually crash the program"
   ]
  },
  {
   "cell_type": "markdown",
   "metadata": {},
   "source": [
    "# Read in the data:"
   ]
  },
  {
   "cell_type": "code",
   "execution_count": null,
   "metadata": {},
   "outputs": [],
   "source": [
    "#Read in some random variable data\n",
    "data = pandas.read_csv( \"RandomVariable_Generated_Data.dat\",\n",
    "                       sep=' ',\n",
    "                       header=0 )\n",
    "print ( data )"
   ]
  },
  {
   "cell_type": "markdown",
   "metadata": {},
   "source": [
    "# Some useful helper functions:"
   ]
  },
  {
   "cell_type": "code",
   "execution_count": null,
   "metadata": {},
   "outputs": [],
   "source": [
    "#Don't worry about this function, maybe come back to take a look\n",
    "#at how it works. For now, just know that we use it to make some\n",
    "#plots throughout this process.\n",
    "def plot_1D_function( \n",
    "    Functions = None,\n",
    "    minp = None,\n",
    "    maxp = None,\n",
    "    nump = None,\n",
    "    Labels = None,\n",
    "    ):\n",
    "    \n",
    "       \n",
    "    if None in [Functions, minp, maxp, nump]: \n",
    "        raise Exception(\"arg missing...\" + str([Function, minp, maxp, nump]))\n",
    "    \n",
    "    if Labels is None:\n",
    "        Labels = [None]*len(Functions)\n",
    "    \n",
    "    for Label,Function in zip(Labels,Functions):\n",
    "\n",
    "        TrialPoints = numpy.linspace(-20, 20, 100)\n",
    "        Values = []\n",
    "        for TrailPoint in TrialPoints:\n",
    "            Values.append(Function ( TrailPoint) )\n",
    "\n",
    "        plt.plot(TrialPoints, Values,label=Label)\n",
    "        if Label is not None:\n",
    "            plt.legend()\n",
    "    \n",
    "    \n",
    "    \n",
    "    return"
   ]
  },
  {
   "cell_type": "markdown",
   "metadata": {},
   "source": [
    "# Marginal Distributions:"
   ]
  },
  {
   "cell_type": "markdown",
   "metadata": {},
   "source": [
    "### Make a histogram of the data from column A"
   ]
  },
  {
   "cell_type": "code",
   "execution_count": null,
   "metadata": {},
   "outputs": [],
   "source": [
    "Adata = data['A']\n",
    "plt.hist(Adata, density=True,bins=50,label='A')#You can define bins as a total number of bins, or as an array of bin intervals. Density=True normalizes the histogram\n",
    "plt.xlabel('A')\n",
    "plt.ylabel('Number')\n",
    "plt.legend()\n",
    "plt.show()"
   ]
  },
  {
   "cell_type": "markdown",
   "metadata": {},
   "source": [
    "### Make a histogram of the data from column B"
   ]
  },
  {
   "cell_type": "code",
   "execution_count": null,
   "metadata": {},
   "outputs": [],
   "source": [
    "Bdata = data['B']\n",
    "plt.hist(Bdata, density=True,bins=50,label='B')\n",
    "plt.xlabel('B')\n",
    "plt.ylabel('Number')\n",
    "plt.legend()\n",
    "plt.show()"
   ]
  },
  {
   "cell_type": "markdown",
   "metadata": {},
   "source": [
    "### Approximate the data from column A as a univariate gaussian: (MARGINAL)"
   ]
  },
  {
   "cell_type": "code",
   "execution_count": null,
   "metadata": {},
   "outputs": [],
   "source": [
    "A_standard_deviation = numpy.std( Adata ) \n",
    "A_mean = numpy.mean(Adata)\n",
    "\n",
    "ATrialPoints = numpy.linspace(-20, 20, 100)\n",
    "AValuePoints = scipy.stats.norm.pdf(ATrialPoints, \n",
    "                                    loc = A_mean, #mean\n",
    "                                    scale = A_standard_deviation )#standard deviation\n",
    "\n",
    "plt.hist(Adata, density=True, bins=50,label='Binned A')\n",
    "plt.plot(ATrialPoints, AValuePoints,label='Gaussian A')\n",
    "plt.xlabel('A')\n",
    "plt.ylabel('Number')\n",
    "plt.legend()\n",
    "plt.show()"
   ]
  },
  {
   "cell_type": "markdown",
   "metadata": {},
   "source": [
    "### Approximate the data from column B as a univariate gaussian: (MARGINAL)"
   ]
  },
  {
   "cell_type": "code",
   "execution_count": null,
   "metadata": {},
   "outputs": [],
   "source": [
    "# STUDENTS WILL WORK ON THIS CELL\n",
    "\n",
    "BTrialPoints = numpy.linspace(-20, 20, 100)\n",
    "\n",
    "# Find the Gaussian values of each of the BTrialPoints \n",
    "#BValuePoints = \n",
    "\n",
    "plt.hist(Bdata, density=True, bins=50,label='Binned B')\n",
    "#plt.plot(BTrialPoints, BValuePoints,label='Gaussian B')\n",
    "plt.xlabel('B')\n",
    "plt.ylabel('Number')\n",
    "plt.legend()\n",
    "plt.show()"
   ]
  },
  {
   "cell_type": "markdown",
   "metadata": {},
   "source": [
    "# Conditional distributions"
   ]
  },
  {
   "cell_type": "markdown",
   "metadata": {},
   "source": [
    "### (1) Approximate the joint probability density function of A and B with a multivariate gaussian\n"
   ]
  },
  {
   "cell_type": "code",
   "execution_count": null,
   "metadata": {},
   "outputs": [],
   "source": [
    "\n",
    "ABdata = numpy.vstack( ( data['A'], data['B'] ) ).T#vstack vertically combines the two columns, the .T transposes the data\n",
    "print(ABdata)\n",
    "\n",
    "ABMean = numpy.mean( ABdata, axis = 0 )#axis=0 means we want the mean along columns\n",
    "print (ABMean)\n",
    "\n",
    "ABCovarianceMatrix = numpy.cov( ABdata, rowvar = False ) #numpy calculates a covariance matrix,rowvar=False tells it we're interested in columns\n",
    "print (ABCovarianceMatrix)\n",
    "\n",
    "def jointGaussian(ABpoint): #A Gaussian in more than one dimension, so we give it an (x,y) point and covariance matrix\n",
    "    return scipy.stats.multivariate_normal.pdf( ABpoint, ABMean, ABCovarianceMatrix )\n",
    "print ( jointGaussian( [0,0]) )\n",
    "\n",
    "Library_GraphTwoDimensionDensityColorMap.Main(#this is an imported function, not defined here\n",
    "    Function = jointGaussian,\n",
    "    DomainMinimumPoint  = numpy.array([-5, -10]),\n",
    "    DomainMaximumPoint  = numpy.array([10, 15]),\n",
    "    ShowContours = True,\n",
    "    PrintExtra = False,\n",
    "    #PlotThreeDimensional = True\n",
    "    )\n",
    "plt.title(\"Probability Density of A & B\", fontsize=40)\n",
    "plt.ylabel('B',fontsize=40)\n",
    "plt.xlabel('A',fontsize=40)\n",
    "plt.draw()"
   ]
  },
  {
   "cell_type": "markdown",
   "metadata": {},
   "source": [
    "### (1)  Fixing A = 0, plot the unnormalized conditional probability density of B:\n",
    "P(B|A)\n",
    "=====\n"
   ]
  },
  {
   "cell_type": "code",
   "execution_count": null,
   "metadata": {},
   "outputs": [],
   "source": [
    "#conditional probability for B, given a value of 0 for A\n",
    "def BdensityConditionalOnA0_unnormalized(Bpoint): \n",
    "    return jointGaussian( [0, Bpoint] )\n",
    "\n",
    "\n",
    "plot_1D_function( \n",
    "    Functions = [BdensityConditionalOnA0_unnormalized],\n",
    "    minp = -20,\n",
    "    maxp = 20,\n",
    "    nump = 100,\n",
    "    Labels = ['P(B|A=0)']\n",
    "    )\n",
    "plt.ylabel('P(B|A)')\n",
    "plt.xlabel('B')\n",
    "plt.legend()\n",
    "plt.show()"
   ]
  },
  {
   "cell_type": "markdown",
   "metadata": {},
   "source": [
    "### (1) Fixing A = 0, plot the normalized probability density function of B:\n"
   ]
  },
  {
   "cell_type": "code",
   "execution_count": null,
   "metadata": {},
   "outputs": [],
   "source": [
    "#Numerical integration of the conditional probability\n",
    "FullIntegrationResult = scipy.integrate.quad( \n",
    "    BdensityConditionalOnA0_unnormalized, \n",
    "    -100, \n",
    "    100, \n",
    "    full_output = False\n",
    "    )[0]\n",
    "print (FullIntegrationResult )\n",
    "\n",
    "def BdensityConditionalOnA0_normalized(Bpoint):\n",
    "    return BdensityConditionalOnA0_unnormalized(Bpoint) / FullIntegrationResult\n",
    "\n"
   ]
  },
  {
   "cell_type": "code",
   "execution_count": null,
   "metadata": {},
   "outputs": [],
   "source": [
    "plot_1D_function( \n",
    "    Functions = [BdensityConditionalOnA0_unnormalized, BdensityConditionalOnA0_normalized],\n",
    "    minp = -20,\n",
    "    maxp = 20,\n",
    "    nump = 100,\n",
    "    Labels = ['UnNormed','Normed']\n",
    "    )\n",
    "plt.ylabel('P(B|A)')\n",
    "plt.xlabel('B')\n",
    "plt.legend()\n",
    "plt.show()\n"
   ]
  },
  {
   "cell_type": "markdown",
   "metadata": {},
   "source": [
    "### (1) Fixing A = 7, plot the probability density of B:\n"
   ]
  },
  {
   "cell_type": "code",
   "execution_count": null,
   "metadata": {},
   "outputs": [],
   "source": [
    "# STUDENTS WILL WORK ON THIS CELL\n",
    "\n",
    "A_fixed_values=[1,3,5]\n",
    "\n",
    "# Fill in functions to calculate B probabilities given A values in A_fixed_values here\n",
    "\n",
    "function_list=[]\n",
    "\n",
    "# function_list[0](3) should be the probability of B=3 given A=1\n",
    "\n",
    "plot_1D_function( \n",
    "    Functions = function_list,\n",
    "    minp = -20,\n",
    "    maxp = 20,\n",
    "    nump = 100,\n",
    "    Labels = ['P(B|A=%i)'%i for i in A_fixed_values]\n",
    "    )\n",
    "plt.ylabel('P(B|A)')\n",
    "plt.xlabel('B')\n",
    "plt.legend()\n",
    "plt.show()\n"
   ]
  },
  {
   "cell_type": "markdown",
   "metadata": {},
   "source": [
    "### (1) Fixing B = 0 plot the unnormalized probability density of A:\n"
   ]
  },
  {
   "cell_type": "code",
   "execution_count": null,
   "metadata": {},
   "outputs": [],
   "source": [
    "#Same as before, but now we fix the value of B and\n",
    "#calculate the conditional probability for A\n",
    "def AdensityConditionalOnB0_unnormalized(Apoint):\n",
    "    return jointGaussian( [Apoint, 0] )\n",
    "\n",
    "\n",
    "plot_1D_function( \n",
    "    Functions = [AdensityConditionalOnB0_unnormalized],\n",
    "    minp = -20,\n",
    "    maxp = 20,\n",
    "    nump = 100,\n",
    "    Labels = ['P(A|B=0)']\n",
    "    )\n",
    "plt.ylabel('P(A|B)')\n",
    "plt.xlabel('A')\n",
    "plt.legend()\n",
    "plt.show()\n"
   ]
  },
  {
   "cell_type": "markdown",
   "metadata": {},
   "source": [
    "### (1) Fixing B = 7, plot the unnormalized probability density of A:\n"
   ]
  },
  {
   "cell_type": "code",
   "execution_count": null,
   "metadata": {},
   "outputs": [],
   "source": [
    "def AdensityConditionalOnB7_unnormalized(Apoint):\n",
    "    return jointGaussian( [Apoint, 7] )\n",
    "\n",
    "\n",
    "plot_1D_function( \n",
    "    Functions = [AdensityConditionalOnB7_unnormalized],\n",
    "    minp = -20,\n",
    "    maxp = 20,\n",
    "    nump = 100,\n",
    "    Labels = ['P(A|B=7)']\n",
    "    )\n",
    "plt.ylabel('P(A|B)')\n",
    "plt.xlabel('A')\n",
    "plt.legend()\n",
    "plt.show()"
   ]
  },
  {
   "cell_type": "markdown",
   "metadata": {},
   "source": [
    "### (2) Approximate the joint probability density function of A and B with a kernel density estimation\n"
   ]
  },
  {
   "cell_type": "code",
   "execution_count": null,
   "metadata": {},
   "outputs": [],
   "source": [
    "kernel_object = scipy.stats.gaussian_kde( ABdata.T ) #takes in points sideways...\n",
    "\n",
    "kernel_pdf = kernel_object.pdf #get the pdf from the kernel_object, just a scipy structure thing\n",
    "\n",
    "Library_GraphTwoDimensionDensityColorMap.Main(\n",
    "    Function = kernel_pdf,\n",
    "    DomainMinimumPoint  = numpy.array([-10, -10]),\n",
    "    DomainMaximumPoint  = numpy.array([20, 20]),\n",
    "    ShowContours = True,\n",
    "    PluginPointCount = 10000,\n",
    "    PrintExtra = False,\n",
    "    )\n",
    "plt.ylabel(\"B\",fontsize=14)\n",
    "plt.xlabel(\"A\",fontsize=14)\n",
    "plt.show()"
   ]
  },
  {
   "cell_type": "markdown",
   "metadata": {},
   "source": [
    "### (2) Approximate the conditional probability density function of B, fixing A to 5:\n"
   ]
  },
  {
   "cell_type": "code",
   "execution_count": null,
   "metadata": {},
   "outputs": [],
   "source": [
    "# STUDENTS WILL WORK ON THIS CELL\n",
    "def AdensityConditionalOnB5_unnormalized_kde(Apoint):\n",
    "    #Fill in function here\n",
    "    return \n",
    "\n",
    "\n",
    "plot_1D_function( \n",
    "    Functions = [AdensityConditionalOnB5_unnormalized_kde],\n",
    "    minp = -20,\n",
    "    maxp = 20,\n",
    "    nump = 100,\n",
    "    Labels = ['P(B|A=5)']\n",
    "    )\n",
    "plt.ylabel('P(B|A)')\n",
    "plt.xlabel('B')\n",
    "plt.legend()\n",
    "plt.show()"
   ]
  },
  {
   "cell_type": "markdown",
   "metadata": {},
   "source": [
    "### (2) Approximate the conditional probability density function of A, fixing B to 5:\n"
   ]
  },
  {
   "cell_type": "code",
   "execution_count": null,
   "metadata": {},
   "outputs": [],
   "source": [
    "#same as what we did before, but notice the differences\n",
    "#between our previous answer and here. Can you \n",
    "#make sense of the difference on the 2D plot?\n",
    "def AdensityConditionalOnB5_unnormalized_kde(Bpoint):\n",
    "    return (kernel_object.pdf( [ 5, Bpoint]) )\n",
    "\n",
    "\n",
    "plot_1D_function( \n",
    "    Functions = [AdensityConditionalOnB5_unnormalized_kde],\n",
    "    minp = -20,\n",
    "    maxp = 20,\n",
    "    nump = 100,\n",
    "    Labels = ['P(A|B=5)']\n",
    "    )\n",
    "plt.ylabel('P(A|B)')\n",
    "plt.xlabel('A')\n",
    "plt.legend()\n",
    "plt.show()"
   ]
  },
  {
   "cell_type": "markdown",
   "metadata": {},
   "source": [
    "## Note how the double peaked nature of the gaussian could be missed assuming gaussianity\n"
   ]
  },
  {
   "cell_type": "markdown",
   "metadata": {},
   "source": [
    "# Final Excercise: Code up your own 1D kernel density estimation function against the data in Column A:"
   ]
  },
  {
   "cell_type": "code",
   "execution_count": null,
   "metadata": {},
   "outputs": [],
   "source": [
    "#We're going to approximate using a Triangle shaped kernel (see plot)\n",
    "#The if else statement here just creates the triangle.\n",
    "def Triangle_Kernel( Point, Mean, StandardDeviation):\n",
    "    if Point < Mean-StandardDeviation or Point>Mean+StandardDeviation:\n",
    "        return 0\n",
    "    elif Point >= Mean-StandardDeviation and Point <= Mean:\n",
    "        return((Point-Mean)/StandardDeviation**2+1/StandardDeviation)\n",
    "    elif Point >=Mean and Point <= Mean+StandardDeviation:\n",
    "        return(-(Point-Mean)/StandardDeviation**2+1/StandardDeviation)\n",
    "    else: \n",
    "        print('What happened?')\n",
    "    return \n",
    "\n",
    "plt.plot(numpy.arange(0,10,.01),[Triangle_Kernel(x,5,1) for x in numpy.arange(0,10,.01)],label='Triangle')\n",
    "plt.plot(numpy.arange(0,10,.01),scipy.stats.norm.pdf( numpy.arange(0,10,.01), 5, .5 ),label=\"Gaussian\")\n",
    "plt.legend()\n",
    "plt.xlabel('A')\n",
    "plt.ylabel('Probability Density')\n",
    "plt.show()\n",
    "\n",
    "#The outer function here accepts a dataset, and the inner\n",
    "#function creates the KDE by passing one point at a time\n",
    "#to our Triangle_Kernel function, which only knows\n",
    "#how to deal with one point at time. \n",
    "def GenerateKernelDensityEstimationFunction1D_Triangle( Data ):\n",
    "    def KDE(  Value  ):\n",
    "        Result = 0\n",
    "        Bandwidth = numpy.sqrt( numpy.var(Data) ) / 6 #Bandwidth calculation\n",
    "        for Datapoint in Data:\n",
    "            Result += Triangle_Kernel( Value, Datapoint, Bandwidth ) #The total probability will be the sum of each point\n",
    "        Probability = Result / len(Data)\n",
    "        return Probability\n",
    "    \n",
    "    return KDE"
   ]
  },
  {
   "cell_type": "code",
   "execution_count": null,
   "metadata": {},
   "outputs": [],
   "source": [
    "#Get our KDE pdf from above\n",
    "Personal_KDE_Function_triangle = GenerateKernelDensityEstimationFunction1D_Triangle( Adata )\n",
    "\n",
    "#Compare it to a scipy gaussian KDE\n",
    "scipy_KDE_Function = scipy.stats.gaussian_kde( Adata ).pdf\n",
    "\n",
    "#Plot them using our defined function at the top again\n",
    "plot_1D_function( \n",
    "    Functions = [Personal_KDE_Function_triangle, scipy_KDE_Function],\n",
    "    minp = -20,\n",
    "    maxp = 20,\n",
    "    nump = 100,\n",
    "    Labels = ['Personal_Triangle','Scipy']\n",
    "    )\n",
    "plt.ylabel('P(A)')\n",
    "plt.xlabel('A')\n",
    "plt.legend()\n",
    "plt.show()\n"
   ]
  },
  {
   "cell_type": "code",
   "execution_count": null,
   "metadata": {},
   "outputs": [],
   "source": [
    "# STUDENTS WILL WORK ON THIS CELL\n",
    "def UnivariateGaussian( Point, Mean, StandardDeviation):\n",
    "    #Fill in kernel function here\n",
    "    return \n",
    "\n",
    "\n",
    "def GenerateKernelDensityEstimationFunction1D( Data ):\n",
    "    \n",
    "    def KDE(  Value  ):\n",
    "        Result = 0\n",
    "        Bandwidth = #?\n",
    "        for Datapoint in Data:\n",
    "            Result += UnivariateGaussian( Value, Datapoint, Bandwidth ) \n",
    "        Probability = Result / len(Data)#normalize it\n",
    "        return Probability\n",
    "    \n",
    "    return KDE\n",
    "    \n",
    "    \n",
    "    "
   ]
  },
  {
   "cell_type": "code",
   "execution_count": null,
   "metadata": {},
   "outputs": [],
   "source": [
    "# STUDENTS WILL WORK ON THIS CELL\n",
    "Personal_KDE_Function = GenerateKernelDensityEstimationFunction1D( Adata )\n",
    "\n",
    "scipy_KDE_Function = scipy.stats.gaussian_kde( Adata ).pdf\n",
    "\n",
    "plot_1D_function( \n",
    "    Functions = [Personal_KDE_Function, scipy_KDE_Function],\n",
    "    minp = -20,\n",
    "    maxp = 20,\n",
    "    nump = 100,\n",
    "    Labels = ['Personal','Scipy']\n",
    "    )\n",
    "plt.ylabel('P(A)')\n",
    "plt.xlabel('A')\n",
    "plt.legend()\n",
    "plt.show()"
   ]
  },
  {
   "cell_type": "markdown",
   "metadata": {},
   "source": [
    "# Discuss choice of bandwidth, delta functions, and understand the overfitting problem:"
   ]
  },
  {
   "cell_type": "code",
   "execution_count": null,
   "metadata": {},
   "outputs": [],
   "source": [
    "# STUDENTS WILL WORK ON THIS CELL\n",
    "def UnivariateGaussian2( Point, Mean, StandardDeviation):#Another Gaussian from scipy\n",
    "    return scipy.stats.norm.pdf( Point, Mean, StandardDeviation )\n",
    "\n",
    "def GenerateKernelDensityEstimationFunction1D_bad( Data ):\n",
    "    \n",
    "    def KDE(  Value  ):\n",
    "        Result = 0\n",
    "        Bandwidth = numpy.sqrt( numpy.var(Data) ) / 100 #Change this Bandwidth and see what happens\n",
    "        for Datapoint in Data:\n",
    "            Result += UnivariateGaussian2( Value, Datapoint, Bandwidth )#The total probability will be the sum of each point\n",
    "        Probability = Result / len(Data)#normalize it\n",
    "        return Probability\n",
    "    \n",
    "    return KDE\n",
    "\n",
    "Personal_KDE_Function_bad = GenerateKernelDensityEstimationFunction1D_bad( Adata )\n",
    "\n",
    "scipy_KDE_Function = scipy.stats.gaussian_kde( Adata ).pdf\n",
    "\n",
    "plot_1D_function( \n",
    "    Functions = [Personal_KDE_Function_bad, scipy_KDE_Function],\n",
    "    minp = -20,\n",
    "    maxp = 20,\n",
    "    nump = 100,\n",
    "    Labels = ['Personal_Bad','Scipy']\n",
    "    )\n",
    "plt.xlabel('P(A)')\n",
    "plt.ylabel('A')\n",
    "plt.legend()\n",
    "plt.show()\n",
    "#Oh my."
   ]
  },
  {
   "cell_type": "code",
   "execution_count": null,
   "metadata": {},
   "outputs": [],
   "source": []
  }
 ],
 "metadata": {
  "kernelspec": {
   "display_name": "Python 3",
   "language": "python",
   "name": "python3"
  },
  "language_info": {
   "codemirror_mode": {
    "name": "ipython",
    "version": 3
   },
   "file_extension": ".py",
   "mimetype": "text/x-python",
   "name": "python",
   "nbconvert_exporter": "python",
   "pygments_lexer": "ipython3",
   "version": "3.7.2"
  }
 },
 "nbformat": 4,
 "nbformat_minor": 2
}
